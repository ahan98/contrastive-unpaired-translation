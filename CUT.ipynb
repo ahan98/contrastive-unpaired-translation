{
 "cells": [
  {
   "cell_type": "code",
   "execution_count": 6,
   "metadata": {},
   "outputs": [],
   "source": [
    "from training.train import train\n",
    "from data_utils import *\n",
    "import torch\n",
    "import torchvision.transforms as T\n",
    "import matplotlib.pyplot as plt"
   ]
  },
  {
   "cell_type": "code",
   "execution_count": 7,
   "metadata": {},
   "outputs": [],
   "source": [
    "# define path to image folders\n",
    "path = \"./datasets/horse2zebra/\"\n",
    "X_class_name = \"trainA\"\n",
    "Y_class_name = \"trainB\"\n",
    "\n",
    "device = torch.device('cuda:0' if torch.cuda.is_available() else 'cpu')"
   ]
  },
  {
   "cell_type": "code",
   "execution_count": 3,
   "metadata": {},
   "outputs": [],
   "source": [
    "batches_by_class = get_batches_from_path(path)\n",
    "\n",
    "X_train_dataloader = make_dataloader(batches_by_class, X_class_name)\n",
    "Y_train_dataloader = make_dataloader(batches_by_class, Y_class_name,\n",
    "                                     replacement=True)"
   ]
  },
  {
   "cell_type": "code",
   "execution_count": null,
   "metadata": {},
   "outputs": [],
   "source": [
    "# Default Hyperparameter Values\n",
    "n_epochs = 400\n",
    "lr = 2e-3\n",
    "print_every = 100\n",
    "\n",
    "discriminator, generator, patchNCE, loss_histories = \\\n",
    "    train(X_train_dataloader, Y_train_dataloader, n_epochs=n_epochs,\n",
    "          lr=lr, print_every=print_every)"
   ]
  },
  {
   "cell_type": "code",
   "execution_count": null,
   "metadata": {},
   "outputs": [],
   "source": [
    "# plot loss histories"
   ]
  },
  {
   "cell_type": "code",
   "execution_count": null,
   "metadata": {},
   "outputs": [],
   "source": [
    "# Run trained generator on validation images from class X\n",
    "path_to_val = path + output_folder + \"/val\"\n",
    "X_val_dataloader = make_dataloader(batches_by_class, X_class_name)\n",
    "fake_images = []\n",
    "\n",
    "for minibatch in X_val_dataloader:\n",
    "    out = generator(minibatch)\n",
    "    img = T.ToPILImage()(out)\n",
    "    fake_images.append(img)"
   ]
  },
  {
   "cell_type": "code",
   "execution_count": null,
   "metadata": {},
   "outputs": [],
   "source": [
    "# visualize a few of the images\n",
    "n_display = 3\n",
    "for i in range(n_display):\n",
    "    plt.imshow(fake_images[i])"
   ]
  },
  {
   "cell_type": "code",
   "execution_count": null,
   "metadata": {},
   "outputs": [],
   "source": [
    "# Run FID metric to quantify similarity between generated images and target class.\n",
    "# see: https://github.com/mseitzer/pytorch-fid"
   ]
  },
  {
   "cell_type": "code",
   "execution_count": null,
   "metadata": {},
   "outputs": [],
   "source": [
    "# Model at this point looks good, so let's save it\n",
    "path_to_save = None\n",
    "torch.save(generator.state_dict(), path_to_save)"
   ]
  }
 ],
 "metadata": {
  "kernelspec": {
   "display_name": "Python 3",
   "language": "python",
   "name": "python3"
  },
  "language_info": {
   "codemirror_mode": {
    "name": "ipython",
    "version": 3
   },
   "file_extension": ".py",
   "mimetype": "text/x-python",
   "name": "python",
   "nbconvert_exporter": "python",
   "pygments_lexer": "ipython3",
   "version": "3.8.4"
  }
 },
 "nbformat": 4,
 "nbformat_minor": 4
}
